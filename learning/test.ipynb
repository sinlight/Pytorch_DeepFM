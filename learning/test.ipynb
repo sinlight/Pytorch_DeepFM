{
 "cells": [
  {
   "cell_type": "code",
   "execution_count": 16,
   "metadata": {},
   "outputs": [],
   "source": [
    "gf_bank = 383762\n",
    "jt_bank = 24853.06 - 325.92\n",
    "zs_bank = 10040.83\n",
    "bj_bank = 15542.38\n",
    "ny_bank = 304.41\n",
    "gjj = 99422.76"
   ]
  },
  {
   "cell_type": "code",
   "execution_count": 17,
   "metadata": {},
   "outputs": [
    {
     "data": {
      "text/plain": [
       "533599.52"
      ]
     },
     "execution_count": 17,
     "metadata": {},
     "output_type": "execute_result"
    }
   ],
   "source": [
    "gf_bank + jt_bank + zs_bank + bj_bank + ny_bank + gjj"
   ]
  },
  {
   "cell_type": "code",
   "execution_count": null,
   "metadata": {},
   "outputs": [],
   "source": []
  },
  {
   "cell_type": "code",
   "execution_count": 18,
   "metadata": {},
   "outputs": [],
   "source": [
    "def calculate_price(\n",
    "    房价 = 439,\n",
    "    评估比例 = 0.95,\n",
    "    契税比例 = 0.01,\n",
    "    个税比例 = 0.00,\n",
    "    服务费比例 = 0.027,\n",
    "    贷款比例 = 0.65,\n",
    "    商贷年限 = 25,\n",
    "    公积金贷款 = 40,\n",
    "    公积金年限 = 25\n",
    "    ):\n",
    "    \n",
    "    LPR = 4.65 / 100\n",
    "    基点 = 55 / 10000\n",
    "    商贷利率 = round(LPR + 基点,4)\n",
    "    商贷月利率 = 商贷利率/12\n",
    "    商贷还款月数 = 商贷年限*12\n",
    "    \n",
    "    公积金利率 = 0.0325\n",
    "    公积金月利率 = 公积金利率/12\n",
    "    公积金还款月数 = 公积金年限*12\n",
    "    \n",
    "    # print('商贷利率',商贷利率,'; 公积金利率',公积金利率)\n",
    "    \n",
    "    网签价 = round(房价 * 评估比例,4)\n",
    "    贷款 = round(网签价 * 贷款比例,4)\n",
    "    契税 = round(网签价 * 契税比例,4)\n",
    "    个税 = round(网签价 * 个税比例,4)\n",
    "    服务费 = round(房价 * 服务费比例,4)\n",
    "    总首付 = 房价 - 贷款 + 契税 + 个税 + 服务费\n",
    "    \n",
    "    纯商贷月还款额 = 贷款*商贷月利率*(1+商贷月利率)**商贷还款月数/((1+商贷月利率)**商贷还款月数-1) * 10000\n",
    "    纯商贷总还款额 = 纯商贷月还款额*商贷还款月数\n",
    "    \n",
    "    商贷月还款额 = (贷款-公积金贷款)*商贷月利率*(1+商贷月利率)**商贷还款月数/((1+商贷月利率)**商贷还款月数-1) * 10000\n",
    "    公积金月还款额 = 公积金贷款*公积金月利率*(1+公积金月利率)**公积金还款月数/((1+公积金月利率)**公积金还款月数-1) * 10000\n",
    "    组合贷月还款额 = 商贷月还款额 + 公积金月还款额\n",
    "    组合贷总还款额 = 商贷月还款额*商贷还款月数 + 公积金月还款额*公积金还款月数\n",
    "    \n",
    "    \n",
    "    print('房价',round(房价,4))\n",
    "    print('网签价',round(网签价,4))\n",
    "    print('贷款',round(贷款,4))\n",
    "    print('契税',round(契税,4),' 个税',round(个税,4))\n",
    "    print('服务费',round(服务费,4))\n",
    "    print('总首付',round(总首付,4))\n",
    "    print('纯商贷月还款额',round(纯商贷月还款额,2),'纯商贷总还款额',round(纯商贷总还款额,2))\n",
    "    print('组合贷月还款额',round(组合贷月还款额,2),'组合贷总还款额',round(组合贷总还款额,2)) \n",
    "    print('月差额',round(纯商贷月还款额-组合贷月还款额,2),'总差额',round(纯商贷总还款额-组合贷总还款额,2))\n",
    "    \n",
    "    # print('组合贷月还款额',round(组合贷月还款额,2),' 商贷月还款额',round(商贷月还款额,2),' 公积金月还款额',round(公积金月还款额,2),)"
   ]
  },
  {
   "cell_type": "code",
   "execution_count": 41,
   "metadata": {},
   "outputs": [],
   "source": [
    "def wrap(房价,评估比例 = 0.95):\n",
    "    calculate_price(房价 = 房价, 评估比例 = 评估比例, 契税比例 = 0.01, 个税比例 = 0.01, 服务费比例 = 0.027,\n",
    "                    贷款比例 = 0.65, 商贷年限 = 25, 公积金贷款 = 40, 公积金年限 = 25 )"
   ]
  },
  {
   "cell_type": "code",
   "execution_count": 42,
   "metadata": {},
   "outputs": [
    {
     "name": "stdout",
     "output_type": "stream",
     "text": [
      "房价 535\n",
      "网签价 481.5\n",
      "贷款 312.975\n",
      "契税 4.815  个税 4.815\n",
      "服务费 14.445\n",
      "总首付 246.1\n",
      "纯商贷月还款额 18662.75 纯商贷总还款额 5598824.03\n",
      "组合贷月还款额 18226.81 组合贷总还款额 5468041.68\n",
      "月差额 435.94 总差额 130782.35\n"
     ]
    }
   ],
   "source": [
    "wrap(535,0.9)"
   ]
  },
  {
   "cell_type": "code",
   "execution_count": 43,
   "metadata": {},
   "outputs": [
    {
     "name": "stdout",
     "output_type": "stream",
     "text": [
      "房价 530\n",
      "网签价 503.5\n",
      "贷款 327.275\n",
      "契税 5.035  个税 5.035\n",
      "服务费 14.31\n",
      "总首付 227.105\n",
      "纯商贷月还款额 19515.46 纯商贷总还款额 5854637.38\n",
      "组合贷月还款额 19079.52 组合贷总还款额 5723855.03\n",
      "月差额 435.94 总差额 130782.35\n"
     ]
    }
   ],
   "source": [
    "wrap(530, 0.95)"
   ]
  },
  {
   "cell_type": "code",
   "execution_count": 44,
   "metadata": {},
   "outputs": [
    {
     "name": "stdout",
     "output_type": "stream",
     "text": [
      "房价 493\n",
      "网签价 468.35\n",
      "贷款 304.4275\n",
      "契税 4.6835  个税 4.6835\n",
      "服务费 13.311\n",
      "总首付 211.2505\n",
      "纯商贷月还款额 18153.06 纯商贷总还款额 5445917.42\n",
      "组合贷月还款额 17717.12 组合贷总还款额 5315135.06\n",
      "月差额 435.94 总差额 130782.35\n"
     ]
    }
   ],
   "source": [
    "wrap(493, 0.95)"
   ]
  },
  {
   "cell_type": "code",
   "execution_count": 47,
   "metadata": {},
   "outputs": [
    {
     "name": "stdout",
     "output_type": "stream",
     "text": [
      "房价 505\n",
      "网签价 479.75\n",
      "贷款 311.8375\n",
      "契税 4.7975  个税 4.7975\n",
      "服务费 13.635\n",
      "总首付 216.3925\n",
      "纯商贷月还款额 18594.92 纯商贷总还款额 5578475.24\n",
      "组合贷月还款额 18158.98 组合贷总还款额 5447692.89\n",
      "月差额 435.94 总差额 130782.35\n"
     ]
    }
   ],
   "source": [
    "wrap(505, 0.95)"
   ]
  },
  {
   "cell_type": "code",
   "execution_count": null,
   "metadata": {},
   "outputs": [],
   "source": []
  },
  {
   "cell_type": "code",
   "execution_count": 16,
   "metadata": {},
   "outputs": [
    {
     "name": "stdout",
     "output_type": "stream",
     "text": [
      "房价 460\n",
      "总首付 183.908\n",
      "纯商贷月还款额 17472.83 纯商贷总还款额 5241848.13\n",
      "房价 465\n",
      "总首付 185.907\n",
      "纯商贷月还款额 17662.75 纯商贷总还款额 5298824.74\n",
      "房价 470\n",
      "总首付 187.906\n",
      "纯商贷月还款额 17852.67 纯商贷总还款额 5355801.35\n",
      "房价 475\n",
      "总首付 189.905\n",
      "纯商贷月还款额 18042.59 纯商贷总还款额 5412777.96\n",
      "房价 480\n",
      "总首付 191.904\n",
      "纯商贷月还款额 18232.52 纯商贷总还款额 5469754.57\n",
      "房价 485\n",
      "总首付 193.903\n",
      "纯商贷月还款额 18422.44 纯商贷总还款额 5526731.18\n",
      "房价 490\n",
      "总首付 195.902\n",
      "纯商贷月还款额 18612.36 纯商贷总还款额 5583707.79\n",
      "房价 495\n",
      "总首付 197.901\n",
      "纯商贷月还款额 18802.28 纯商贷总还款额 5640684.4\n",
      "房价 500\n",
      "总首付 199.9\n",
      "纯商贷月还款额 18992.2 纯商贷总还款额 5697661.01\n",
      "房价 505\n",
      "总首付 201.899\n",
      "纯商贷月还款额 19182.13 纯商贷总还款额 5754637.62\n",
      "房价 510\n",
      "总首付 203.898\n",
      "纯商贷月还款额 19372.05 纯商贷总还款额 5811614.23\n",
      "房价 515\n",
      "总首付 205.897\n",
      "纯商贷月还款额 19561.97 纯商贷总还款额 5868590.84\n",
      "房价 520\n",
      "总首付 207.896\n",
      "纯商贷月还款额 19751.89 纯商贷总还款额 5925567.45\n",
      "房价 525\n",
      "总首付 209.895\n",
      "纯商贷月还款额 19941.81 纯商贷总还款额 5982544.06\n"
     ]
    }
   ],
   "source": [
    "for i in range(460,530,5):\n",
    "    wrap(i)"
   ]
  },
  {
   "cell_type": "code",
   "execution_count": null,
   "metadata": {},
   "outputs": [],
   "source": []
  },
  {
   "cell_type": "code",
   "execution_count": null,
   "metadata": {},
   "outputs": [],
   "source": []
  },
  {
   "cell_type": "code",
   "execution_count": null,
   "metadata": {},
   "outputs": [],
   "source": []
  },
  {
   "cell_type": "code",
   "execution_count": 14,
   "metadata": {},
   "outputs": [],
   "source": [
    "def get_house(known, real):\n",
    "    print(round(real/known,3),round(known - real,1),round((known - real)/known,2))"
   ]
  },
  {
   "cell_type": "code",
   "execution_count": 15,
   "metadata": {},
   "outputs": [
    {
     "name": "stdout",
     "output_type": "stream",
     "text": [
      "0.772 15.2 0.23\n",
      "0.763 16.0 0.24\n",
      "0.775 13.5 0.23\n"
     ]
    }
   ],
   "source": [
    "get_house(66.69 , 51.50)\n",
    "get_house(67.37 , 51.40)\n",
    "get_house(59.90 , 46.4)  # 北影小区"
   ]
  },
  {
   "cell_type": "code",
   "execution_count": null,
   "metadata": {},
   "outputs": [],
   "source": []
  },
  {
   "cell_type": "code",
   "execution_count": null,
   "metadata": {},
   "outputs": [],
   "source": []
  },
  {
   "cell_type": "code",
   "execution_count": 20,
   "metadata": {},
   "outputs": [
    {
     "name": "stdout",
     "output_type": "stream",
     "text": [
      "房价 500\n",
      "网签价 475.0\n",
      "贷款 308.75\n",
      "契税 4.75  个税 0.0\n",
      "服务费 13.5\n",
      "总首付 209.5\n",
      "纯商贷月还款额 18410.81 纯商贷总还款额 5523242.81\n",
      "组合贷月还款额 17974.87 组合贷总还款额 5392460.46\n",
      "月差额 435.94 总差额 130782.35\n"
     ]
    }
   ],
   "source": [
    "def wrap(房价):\n",
    "    calculate_price(房价 = 房价, 评估比例 = 0.95, 契税比例 = 0.01, 个税比例 = 0.00, 服务费比例 = 0.027,\n",
    "                    贷款比例 = 0.65, 商贷年限 = 25, 公积金贷款 = 40, 公积金年限 = 25 )\n",
    "    \n",
    "wrap(500)\n"
   ]
  },
  {
   "cell_type": "code",
   "execution_count": null,
   "metadata": {},
   "outputs": [],
   "source": []
  }
 ],
 "metadata": {
  "kernelspec": {
   "display_name": "Python 3",
   "language": "python",
   "name": "python3"
  },
  "language_info": {
   "codemirror_mode": {
    "name": "ipython",
    "version": 3
   },
   "file_extension": ".py",
   "mimetype": "text/x-python",
   "name": "python",
   "nbconvert_exporter": "python",
   "pygments_lexer": "ipython3",
   "version": "3.7.4"
  }
 },
 "nbformat": 4,
 "nbformat_minor": 2
}
